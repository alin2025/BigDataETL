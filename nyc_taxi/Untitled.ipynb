{
 "cells": [
  {
   "cell_type": "code",
   "execution_count": 11,
   "id": "05f664ca-fd0f-4e4e-80a6-3bd04de3ef7c",
   "metadata": {},
   "outputs": [
    {
     "name": "stdout",
     "output_type": "stream",
     "text": [
      "{'vendorid': '2', 'lpep_pickup_datetime': '2015-02-10T08:46:15.000', 'lpep_dropoff_datetime': '2015-02-10T08:59:50.000', 'store_and_fwd_flag': 'N', 'ratecodeid': '1', 'pickup_longitude': '-73.828262329101563', 'pickup_latitude': '40.693958282470703', 'dropoff_longitude': '-73.776329040527344', 'dropoff_latitude': '40.645347595214844', 'passenger_count': '1', 'trip_distance': '5.95', 'fare_amount': '19', 'extra': '0', 'mta_tax': '0.5', 'tip_amount': '4.75', 'tolls_amount': '0', 'improvement_surcharge': '0.3', 'total_amount': '24.55', 'payment_type': '1', 'trip_type': '1'}\n",
      "{'vendorid': '2', 'lpep_pickup_datetime': '2015-01-09T15:45:22.000', 'lpep_dropoff_datetime': '2015-01-09T15:54:32.000', 'store_and_fwd_flag': 'N', 'ratecodeid': '1', 'pickup_longitude': '-73.985671997070313', 'pickup_latitude': '40.669933319091797', 'dropoff_longitude': '-73.998367309570312', 'dropoff_latitude': '40.679828643798828', 'passenger_count': '3', 'trip_distance': '1.15', 'fare_amount': '7.5', 'extra': '0', 'mta_tax': '0.5', 'tip_amount': '1.5', 'tolls_amount': '0', 'improvement_surcharge': '0.3', 'total_amount': '9.8', 'payment_type': '1', 'trip_type': '1'}\n",
      "{'vendorid': '2', 'lpep_pickup_datetime': '2015-01-16T22:07:38.000', 'lpep_dropoff_datetime': '2015-01-16T22:14:25.000', 'store_and_fwd_flag': 'N', 'ratecodeid': '1', 'pickup_longitude': '-73.892570495605469', 'pickup_latitude': '40.746658325195313', 'dropoff_longitude': '-73.909294128417969', 'dropoff_latitude': '40.736202239990234', 'passenger_count': '1', 'trip_distance': '1.74', 'fare_amount': '7.5', 'extra': '0.5', 'mta_tax': '0.5', 'tip_amount': '0', 'tolls_amount': '0', 'improvement_surcharge': '0.3', 'total_amount': '8.8', 'payment_type': '2', 'trip_type': '1'}\n",
      "{'vendorid': '2', 'lpep_pickup_datetime': '2015-02-11T20:12:29.000', 'lpep_dropoff_datetime': '2015-02-11T20:16:39.000', 'store_and_fwd_flag': 'N', 'ratecodeid': '1', 'pickup_longitude': '-73.952033996582031', 'pickup_latitude': '40.714122772216797', 'dropoff_longitude': '-73.957847595214844', 'dropoff_latitude': '40.710945129394531', 'passenger_count': '1', 'trip_distance': '0.5', 'fare_amount': '5', 'extra': '0.5', 'mta_tax': '0.5', 'tip_amount': '0', 'tolls_amount': '0', 'improvement_surcharge': '0.3', 'total_amount': '6.3', 'payment_type': '2', 'trip_type': '1'}\n",
      "{'vendorid': '2', 'lpep_pickup_datetime': '2015-02-26T10:42:27.000', 'lpep_dropoff_datetime': '2015-02-26T10:57:30.000', 'store_and_fwd_flag': 'N', 'ratecodeid': '1', 'pickup_longitude': '-73.89410400390625', 'pickup_latitude': '40.750774383544922', 'dropoff_longitude': '-73.912811279296875', 'dropoff_latitude': '40.755722045898437', 'passenger_count': '2', 'trip_distance': '1.8', 'fare_amount': '11', 'extra': '0', 'mta_tax': '0.5', 'tip_amount': '0', 'tolls_amount': '0', 'improvement_surcharge': '0.3', 'total_amount': '11.8', 'payment_type': '2', 'trip_type': '1'}\n",
      "{'vendorid': '1', 'lpep_pickup_datetime': '2015-02-02T18:46:40.000', 'lpep_dropoff_datetime': '2015-02-02T18:58:08.000', 'store_and_fwd_flag': 'N', 'ratecodeid': '1', 'pickup_longitude': '-73.925422668457031', 'pickup_latitude': '40.761699676513672', 'dropoff_longitude': '-73.915641784667969', 'dropoff_latitude': '40.749153137207031', 'passenger_count': '1', 'trip_distance': '1.3', 'fare_amount': '8.5', 'extra': '1', 'mta_tax': '0.5', 'tip_amount': '0', 'tolls_amount': '0', 'improvement_surcharge': '0.3', 'total_amount': '10.3', 'payment_type': '2', 'trip_type': '1'}\n",
      "{'vendorid': '2', 'lpep_pickup_datetime': '2015-02-17T05:04:16.000', 'lpep_dropoff_datetime': '2015-02-17T05:34:04.000', 'store_and_fwd_flag': 'N', 'ratecodeid': '1', 'pickup_longitude': '-73.927223205566406', 'pickup_latitude': '40.692600250244141', 'dropoff_longitude': '-73.918312072753906', 'dropoff_latitude': '40.651378631591797', 'passenger_count': '1', 'trip_distance': '3.47', 'fare_amount': '17', 'extra': '0.5', 'mta_tax': '0.5', 'tip_amount': '0', 'tolls_amount': '0', 'improvement_surcharge': '0.3', 'total_amount': '18.3', 'payment_type': '1', 'trip_type': '1'}\n",
      "{'vendorid': '2', 'lpep_pickup_datetime': '2015-01-05T12:58:10.000', 'lpep_dropoff_datetime': '2015-01-05T13:04:51.000', 'store_and_fwd_flag': 'N', 'ratecodeid': '1', 'pickup_longitude': '-73.944419860839844', 'pickup_latitude': '40.807327270507813', 'dropoff_longitude': '-73.960868835449219', 'dropoff_latitude': '40.806556701660156', 'passenger_count': '1', 'trip_distance': '1.29', 'fare_amount': '6.5', 'extra': '0', 'mta_tax': '0.5', 'tip_amount': '0', 'tolls_amount': '0', 'improvement_surcharge': '0.3', 'total_amount': '7.3', 'payment_type': '2', 'trip_type': '1'}\n",
      "{'vendorid': '2', 'lpep_pickup_datetime': '2015-02-12T23:28:39.000', 'lpep_dropoff_datetime': '2015-02-12T23:35:14.000', 'store_and_fwd_flag': 'N', 'ratecodeid': '1', 'pickup_longitude': '-73.943794250488281', 'pickup_latitude': '40.746570587158203', 'dropoff_longitude': '-73.928382873535156', 'dropoff_latitude': '40.737293243408203', 'passenger_count': '1', 'trip_distance': '1.64', 'fare_amount': '7.5', 'extra': '0.5', 'mta_tax': '0.5', 'tip_amount': '0', 'tolls_amount': '0', 'improvement_surcharge': '0.3', 'total_amount': '8.8', 'payment_type': '2', 'trip_type': '1'}\n",
      "{'vendorid': '1', 'lpep_pickup_datetime': '2015-02-19T19:41:48.000', 'lpep_dropoff_datetime': '2015-02-19T19:58:32.000', 'store_and_fwd_flag': 'N', 'ratecodeid': '1', 'pickup_longitude': '-73.937156677246094', 'pickup_latitude': '40.804126739501953', 'dropoff_longitude': '-73.880416870117187', 'dropoff_latitude': '40.809806823730469', 'passenger_count': '1', 'trip_distance': '3.6', 'fare_amount': '15', 'extra': '0.5', 'mta_tax': '0.5', 'tip_amount': '0', 'tolls_amount': '0', 'improvement_surcharge': '0.3', 'total_amount': '16.3', 'payment_type': '1', 'trip_type': '1'}\n",
      "{'vendorid': '1', 'lpep_pickup_datetime': '2015-02-03T14:42:42.000', 'lpep_dropoff_datetime': '2015-02-03T14:46:07.000', 'store_and_fwd_flag': 'N', 'ratecodeid': '1', 'pickup_longitude': '-73.992057800292969', 'pickup_latitude': '40.690689086914063', 'dropoff_longitude': '-73.997917175292969', 'dropoff_latitude': '40.687492370605469', 'passenger_count': '1', 'trip_distance': '0.5', 'fare_amount': '4', 'extra': '0', 'mta_tax': '0.5', 'tip_amount': '0', 'tolls_amount': '0', 'improvement_surcharge': '0.3', 'total_amount': '4.8', 'payment_type': '1', 'trip_type': '1'}\n",
      "{'vendorid': '2', 'lpep_pickup_datetime': '2015-02-12T17:38:30.000', 'lpep_dropoff_datetime': '2015-02-12T17:40:33.000', 'store_and_fwd_flag': 'N', 'ratecodeid': '1', 'pickup_longitude': '-73.884246826171875', 'pickup_latitude': '40.749156951904297', 'dropoff_longitude': '-73.882095336914063', 'dropoff_latitude': '40.745098114013672', 'passenger_count': '1', 'trip_distance': '0.41', 'fare_amount': '3.5', 'extra': '1', 'mta_tax': '0.5', 'tip_amount': '0', 'tolls_amount': '0', 'improvement_surcharge': '0.3', 'total_amount': '5.3', 'payment_type': '2', 'trip_type': '1'}\n",
      "{'vendorid': '2', 'lpep_pickup_datetime': '2015-02-24T17:39:08.000', 'lpep_dropoff_datetime': '2015-02-24T17:54:11.000', 'store_and_fwd_flag': 'N', 'ratecodeid': '1', 'pickup_longitude': '-73.920646667480469', 'pickup_latitude': '40.756992340087891', 'dropoff_longitude': '-73.902565002441406', 'dropoff_latitude': '40.770397186279297', 'passenger_count': '5', 'trip_distance': '1.78', 'fare_amount': '11', 'extra': '1', 'mta_tax': '0.5', 'tip_amount': '0', 'tolls_amount': '0', 'improvement_surcharge': '0.3', 'total_amount': '12.8', 'payment_type': '1', 'trip_type': '1'}\n",
      "{'vendorid': '2', 'lpep_pickup_datetime': '2015-02-08T14:04:49.000', 'lpep_dropoff_datetime': '2015-02-08T14:16:00.000', 'store_and_fwd_flag': 'N', 'ratecodeid': '1', 'pickup_longitude': '-73.94439697265625', 'pickup_latitude': '40.809165954589844', 'dropoff_longitude': '-73.930496215820313', 'dropoff_latitude': '40.816307067871094', 'passenger_count': '1', 'trip_distance': '1.55', 'fare_amount': '9', 'extra': '0', 'mta_tax': '0.5', 'tip_amount': '0', 'tolls_amount': '0', 'improvement_surcharge': '0.3', 'total_amount': '9.8', 'payment_type': '2', 'trip_type': '1'}\n",
      "{'vendorid': '2', 'lpep_pickup_datetime': '2015-02-24T16:58:10.000', 'lpep_dropoff_datetime': '2015-02-24T17:05:47.000', 'store_and_fwd_flag': 'N', 'ratecodeid': '1', 'pickup_longitude': '-73.917671203613281', 'pickup_latitude': '40.825416564941406', 'dropoff_longitude': '-73.92730712890625', 'dropoff_latitude': '40.818733215332031', 'passenger_count': '1', 'trip_distance': '0.87', 'fare_amount': '7', 'extra': '1', 'mta_tax': '0.5', 'tip_amount': '0', 'tolls_amount': '0', 'improvement_surcharge': '0.3', 'total_amount': '8.8', 'payment_type': '2', 'trip_type': '1'}\n",
      "{'vendorid': '2', 'lpep_pickup_datetime': '2015-02-08T06:40:12.000', 'lpep_dropoff_datetime': '2015-02-08T06:49:22.000', 'store_and_fwd_flag': 'N', 'ratecodeid': '1', 'pickup_longitude': '-73.91802978515625', 'pickup_latitude': '40.742893218994141', 'dropoff_longitude': '-73.869781494140625', 'dropoff_latitude': '40.7340087890625', 'passenger_count': '1', 'trip_distance': '2.72', 'fare_amount': '10.5', 'extra': '0', 'mta_tax': '0.5', 'tip_amount': '0', 'tolls_amount': '0', 'improvement_surcharge': '0.3', 'total_amount': '11.3', 'payment_type': '2', 'trip_type': '1'}\n",
      "{'vendorid': '1', 'lpep_pickup_datetime': '2015-01-06T14:16:47.000', 'lpep_dropoff_datetime': '2015-01-06T14:26:49.000', 'store_and_fwd_flag': 'N', 'ratecodeid': '1', 'pickup_longitude': '-73.861892700195312', 'pickup_latitude': '40.750164031982422', 'dropoff_longitude': '-73.873062133789063', 'dropoff_latitude': '40.735618591308594', 'passenger_count': '1', 'trip_distance': '1.6', 'fare_amount': '8', 'extra': '0', 'mta_tax': '0.5', 'tip_amount': '0', 'tolls_amount': '0', 'improvement_surcharge': '0.3', 'total_amount': '8.8', 'payment_type': '2', 'trip_type': '1'}\n",
      "{'vendorid': '2', 'lpep_pickup_datetime': '2015-02-04T11:09:51.000', 'lpep_dropoff_datetime': '2015-02-04T11:38:25.000', 'store_and_fwd_flag': 'N', 'ratecodeid': '1', 'pickup_longitude': '-73.961685180664063', 'pickup_latitude': '40.7183837890625', 'dropoff_longitude': '-73.983329772949219', 'dropoff_latitude': '40.687900543212891', 'passenger_count': '1', 'trip_distance': '3.79', 'fare_amount': '20', 'extra': '0', 'mta_tax': '0.5', 'tip_amount': '4.16', 'tolls_amount': '0', 'improvement_surcharge': '0.3', 'total_amount': '24.96', 'payment_type': '1', 'trip_type': '1'}\n",
      "{'vendorid': '1', 'lpep_pickup_datetime': '2015-02-12T19:05:00.000', 'lpep_dropoff_datetime': '2015-02-12T19:15:29.000', 'store_and_fwd_flag': 'N', 'ratecodeid': '1', 'pickup_longitude': '-73.876724243164063', 'pickup_latitude': '40.748527526855469', 'dropoff_longitude': '-73.883010864257813', 'dropoff_latitude': '40.731220245361328', 'passenger_count': '1', 'trip_distance': '1.7', 'fare_amount': '8.5', 'extra': '1', 'mta_tax': '0.5', 'tip_amount': '0', 'tolls_amount': '0', 'improvement_surcharge': '0.3', 'total_amount': '10.3', 'payment_type': '2', 'trip_type': '1'}\n",
      "{'vendorid': '2', 'lpep_pickup_datetime': '2015-02-16T11:43:01.000', 'lpep_dropoff_datetime': '2015-02-16T12:03:06.000', 'store_and_fwd_flag': 'N', 'ratecodeid': '1', 'pickup_longitude': '-73.953437805175781', 'pickup_latitude': '40.714195251464844', 'dropoff_longitude': '-73.955024719238281', 'dropoff_latitude': '40.689067840576172', 'passenger_count': '1', 'trip_distance': '3.22', 'fare_amount': '15.5', 'extra': '0', 'mta_tax': '0.5', 'tip_amount': '3.26', 'tolls_amount': '0', 'improvement_surcharge': '0.3', 'total_amount': '19.56', 'payment_type': '1', 'trip_type': '1'}\n",
      "{'vendorid': '2', 'lpep_pickup_datetime': '2015-02-20T08:08:20.000', 'lpep_dropoff_datetime': '2015-02-20T08:12:34.000', 'store_and_fwd_flag': 'N', 'ratecodeid': '1', 'pickup_longitude': '-73.949966430664063', 'pickup_latitude': '40.785556793212891', 'dropoff_longitude': '-73.952423095703125', 'dropoff_latitude': '40.789642333984375', 'passenger_count': '1', 'trip_distance': '0.43', 'fare_amount': '4.5', 'extra': '0', 'mta_tax': '0.5', 'tip_amount': '1.06', 'tolls_amount': '0', 'improvement_surcharge': '0.3', 'total_amount': '6.36', 'payment_type': '1', 'trip_type': '1'}\n",
      "{'vendorid': '1', 'lpep_pickup_datetime': '2015-02-13T19:49:20.000', 'lpep_dropoff_datetime': '2015-02-13T19:53:49.000', 'store_and_fwd_flag': 'N', 'ratecodeid': '1', 'pickup_longitude': '-73.994895935058594', 'pickup_latitude': '40.684577941894531', 'dropoff_longitude': '-74.00347900390625', 'dropoff_latitude': '40.680717468261719', 'passenger_count': '2', 'trip_distance': '0.7', 'fare_amount': '5', 'extra': '1', 'mta_tax': '0.5', 'tip_amount': '0', 'tolls_amount': '0', 'improvement_surcharge': '0.3', 'total_amount': '6.8', 'payment_type': '2', 'trip_type': '1'}\n",
      "{'vendorid': '1', 'lpep_pickup_datetime': '2015-02-28T14:53:21.000', 'lpep_dropoff_datetime': '2015-02-28T15:03:08.000', 'store_and_fwd_flag': 'N', 'ratecodeid': '1', 'pickup_longitude': '-73.948837280273438', 'pickup_latitude': '40.801811218261719', 'dropoff_longitude': '-73.968917846679688', 'dropoff_latitude': '40.799293518066406', 'passenger_count': '1', 'trip_distance': '1.8', 'fare_amount': '8.5', 'extra': '0', 'mta_tax': '0.5', 'tip_amount': '1.2', 'tolls_amount': '0', 'improvement_surcharge': '0.3', 'total_amount': '10.5', 'payment_type': '1', 'trip_type': '1'}\n",
      "{'vendorid': '1', 'lpep_pickup_datetime': '2015-02-08T03:23:56.000', 'lpep_dropoff_datetime': '2015-02-08T03:27:08.000', 'store_and_fwd_flag': 'N', 'ratecodeid': '1', 'pickup_longitude': '-73.9619140625', 'pickup_latitude': '40.715862274169922', 'dropoff_longitude': '-73.96258544921875', 'dropoff_latitude': '40.708503723144531', 'passenger_count': '1', 'trip_distance': '0.7', 'fare_amount': '4.5', 'extra': '0.5', 'mta_tax': '0.5', 'tip_amount': '0', 'tolls_amount': '0', 'improvement_surcharge': '0.3', 'total_amount': '5.8', 'payment_type': '2', 'trip_type': '1'}\n",
      "{'vendorid': '2', 'lpep_pickup_datetime': '2015-02-23T18:06:31.000', 'lpep_dropoff_datetime': '2015-02-23T18:14:59.000', 'store_and_fwd_flag': 'N', 'ratecodeid': '1', 'pickup_longitude': '-73.920486450195313', 'pickup_latitude': '40.685138702392578', 'dropoff_longitude': '-73.94207763671875', 'dropoff_latitude': '40.689197540283203', 'passenger_count': '1', 'trip_distance': '1.51', 'fare_amount': '7.5', 'extra': '1', 'mta_tax': '0.5', 'tip_amount': '0', 'tolls_amount': '0', 'improvement_surcharge': '0.3', 'total_amount': '9.3', 'payment_type': '2', 'trip_type': '1'}\n",
      "{'vendorid': '2', 'lpep_pickup_datetime': '2015-02-23T23:45:44.000', 'lpep_dropoff_datetime': '2015-02-23T23:48:14.000', 'store_and_fwd_flag': 'N', 'ratecodeid': '1', 'pickup_longitude': '-73.881134033203125', 'pickup_latitude': '40.747966766357422', 'dropoff_longitude': '-73.88916015625', 'dropoff_latitude': '40.747173309326172', 'passenger_count': '1', 'trip_distance': '0.39', 'fare_amount': '3.5', 'extra': '0.5', 'mta_tax': '0.5', 'tip_amount': '0', 'tolls_amount': '0', 'improvement_surcharge': '0.3', 'total_amount': '4.8', 'payment_type': '2', 'trip_type': '1'}\n",
      "{'vendorid': '2', 'lpep_pickup_datetime': '2015-02-21T17:01:09.000', 'lpep_dropoff_datetime': '2015-02-21T17:11:16.000', 'store_and_fwd_flag': 'N', 'ratecodeid': '1', 'pickup_longitude': '-73.93829345703125', 'pickup_latitude': '40.848400115966797', 'dropoff_longitude': '-73.944869995117187', 'dropoff_latitude': '40.828758239746094', 'passenger_count': '1', 'trip_distance': '2.02', 'fare_amount': '9', 'extra': '0', 'mta_tax': '0.5', 'tip_amount': '0', 'tolls_amount': '0', 'improvement_surcharge': '0', 'total_amount': '9.5', 'payment_type': '2', 'trip_type': '1'}\n",
      "{'vendorid': '1', 'lpep_pickup_datetime': '2015-02-24T20:20:00.000', 'lpep_dropoff_datetime': '2015-02-24T20:35:26.000', 'store_and_fwd_flag': 'N', 'ratecodeid': '1', 'pickup_longitude': '-73.997825622558594', 'pickup_latitude': '40.683097839355469', 'dropoff_longitude': '-73.953506469726563', 'dropoff_latitude': '40.730308532714844', 'passenger_count': '2', 'trip_distance': '6.1', 'fare_amount': '19.5', 'extra': '0.5', 'mta_tax': '0.5', 'tip_amount': '0', 'tolls_amount': '0', 'improvement_surcharge': '0.3', 'total_amount': '20.8', 'payment_type': '2', 'trip_type': '1'}\n",
      "{'vendorid': '2', 'lpep_pickup_datetime': '2015-02-06T17:48:44.000', 'lpep_dropoff_datetime': '2015-02-06T18:35:29.000', 'store_and_fwd_flag': 'N', 'ratecodeid': '1', 'pickup_longitude': '-73.944717407226563', 'pickup_latitude': '40.823432922363281', 'dropoff_longitude': '-73.992576599121094', 'dropoff_latitude': '40.742996215820313', 'passenger_count': '3', 'trip_distance': '8.35', 'fare_amount': '31.5', 'extra': '1', 'mta_tax': '0.5', 'tip_amount': '0', 'tolls_amount': '0', 'improvement_surcharge': '0.3', 'total_amount': '33.3', 'payment_type': '2', 'trip_type': '1'}\n",
      "{'vendorid': '2', 'lpep_pickup_datetime': '2015-01-02T23:13:24.000', 'lpep_dropoff_datetime': '2015-01-02T23:17:55.000', 'store_and_fwd_flag': 'N', 'ratecodeid': '1', 'pickup_longitude': '-73.947273254394531', 'pickup_latitude': '40.808650970458984', 'dropoff_longitude': '-73.936424255371094', 'dropoff_latitude': '40.809833526611328', 'passenger_count': '2', 'trip_distance': '0.81', 'fare_amount': '5', 'extra': '0.5', 'mta_tax': '0.5', 'tip_amount': '0', 'tolls_amount': '0', 'improvement_surcharge': '0.3', 'total_amount': '6.3', 'payment_type': '1', 'trip_type': '1'}\n",
      "{'vendorid': '1', 'lpep_pickup_datetime': '2015-02-15T23:19:58.000', 'lpep_dropoff_datetime': '2015-02-15T23:34:32.000', 'store_and_fwd_flag': 'N', 'ratecodeid': '1', 'pickup_longitude': '-73.94732666015625', 'pickup_latitude': '40.799411773681641', 'dropoff_longitude': '-73.936729431152344', 'dropoff_latitude': '40.844696044921875', 'passenger_count': '1', 'trip_distance': '4.4', 'fare_amount': '15.5', 'extra': '0.5', 'mta_tax': '0.5', 'tip_amount': '0', 'tolls_amount': '0', 'improvement_surcharge': '0.3', 'total_amount': '16.8', 'payment_type': '2', 'trip_type': '1'}\n"
     ]
    },
    {
     "ename": "KeyboardInterrupt",
     "evalue": "",
     "output_type": "error",
     "traceback": [
      "\u001b[0;31m---------------------------------------------------------------------------\u001b[0m",
      "\u001b[0;31mKeyboardInterrupt\u001b[0m                         Traceback (most recent call last)",
      "Cell \u001b[0;32mIn[11], line 12\u001b[0m\n\u001b[1;32m     10\u001b[0m row \u001b[38;5;241m=\u001b[39m response\u001b[38;5;241m.\u001b[39mjson()[line]\n\u001b[1;32m     11\u001b[0m \u001b[38;5;28mprint\u001b[39m(row)\n\u001b[0;32m---> 12\u001b[0m \u001b[43mtime\u001b[49m\u001b[38;5;241;43m.\u001b[39;49m\u001b[43msleep\u001b[49m\u001b[43m(\u001b[49m\u001b[38;5;241;43m1\u001b[39;49m\u001b[43m)\u001b[49m\n\u001b[1;32m     13\u001b[0m \u001b[38;5;66;03m#==============send to consumer==========================#\u001b[39;00m\n\u001b[1;32m     14\u001b[0m producer \u001b[38;5;241m=\u001b[39m KafkaProducer(bootstrap_servers\u001b[38;5;241m=\u001b[39m\u001b[38;5;124m\"\u001b[39m\u001b[38;5;124mcourse-kafka:9092\u001b[39m\u001b[38;5;124m\"\u001b[39m)\n",
      "\u001b[0;31mKeyboardInterrupt\u001b[0m: "
     ]
    }
   ],
   "source": [
    "from kafka import KafkaProducer\n",
    "import time,json,requests\n",
    "from datetime import datetime\n",
    "\n",
    "\n",
    "while True:\n",
    "    # ======== Read from Remote API  ==================== #\n",
    "    response = requests.get(url=\"https://data.cityofnewyork.us/resource/gi8d-wdg5.json\")\n",
    "    for line in range(len(response.json())):\n",
    "        row = response.json()[line]\n",
    "        print(row)\n",
    "        time.sleep(1)\n",
    "        #==============send to consumer==========================#\n",
    "        producer = KafkaProducer(bootstrap_servers=\"course-kafka:9092\")\n",
    "        producer.send(topic=\"my_trip\", value=json.dumps(row).encode('utf-8'))\n",
    "    print(datetime.fromtimestamp(time.time()))\n",
    "    time.sleep(3)\n"
   ]
  },
  {
   "cell_type": "code",
   "execution_count": null,
   "id": "b801dd00-8c8b-4f2c-85a4-2e839dead03b",
   "metadata": {},
   "outputs": [],
   "source": []
  },
  {
   "cell_type": "code",
   "execution_count": null,
   "id": "3d9a0997-5581-4fb7-b010-f66a95ed36f0",
   "metadata": {},
   "outputs": [],
   "source": []
  }
 ],
 "metadata": {
  "kernelspec": {
   "display_name": "Python 3 (ipykernel)",
   "language": "python",
   "name": "python3"
  },
  "language_info": {
   "codemirror_mode": {
    "name": "ipython",
    "version": 3
   },
   "file_extension": ".py",
   "mimetype": "text/x-python",
   "name": "python",
   "nbconvert_exporter": "python",
   "pygments_lexer": "ipython3",
   "version": "3.10.7"
  }
 },
 "nbformat": 4,
 "nbformat_minor": 5
}
